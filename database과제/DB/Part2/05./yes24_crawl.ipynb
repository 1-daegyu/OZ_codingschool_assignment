{
 "cells": [
  {
   "cell_type": "markdown",
   "metadata": {},
   "source": [
    "### 예스 24 크롤링"
   ]
  },
  {
   "cell_type": "code",
   "execution_count": 89,
   "metadata": {},
   "outputs": [
    {
     "data": {
      "text/plain": [
       "'/Users/mac/.wdm/drivers/chromedriver/mac64/126.0.6478.182/chromedriver-mac-x64/chromedriver'"
      ]
     },
     "execution_count": 89,
     "metadata": {},
     "output_type": "execute_result"
    }
   ],
   "source": [
    "# webdriver-manager 라이브러리 불러오기\n",
    "from webdriver_manager.chrome import ChromeDriverManager\n",
    "ChromeDriverManager().install()"
   ]
  },
  {
   "cell_type": "code",
   "execution_count": 95,
   "metadata": {},
   "outputs": [],
   "source": [
    "from selenium import webdriver\n",
    "browser = webdriver.Chrome()"
   ]
  },
  {
   "cell_type": "code",
   "execution_count": 91,
   "metadata": {},
   "outputs": [],
   "source": [
    "url = 'https://google.com'\n",
    "browser.get(url)"
   ]
  },
  {
   "cell_type": "code",
   "execution_count": null,
   "metadata": {},
   "outputs": [],
   "source": [
    "from selenium.webdriver.common.by import By\n",
    "browser.find_element(By.CLASS_NAME, 'uU7dJb').text()\n"
   ]
  },
  {
   "cell_type": "code",
   "execution_count": 97,
   "metadata": {},
   "outputs": [],
   "source": [
    "url = 'https://www.yes24.com/Product/Category/BestSeller?categoryNumber=001&pageNumber=1&pageSize=24'\n",
    "browser.get(url)"
   ]
  },
  {
   "cell_type": "code",
   "execution_count": null,
   "metadata": {},
   "outputs": [],
   "source": [
    "# 1페이지의 링크 데이터 전부 수집\n",
    "\n",
    "### 한 개의 베스트 셀러 링크 수집\n",
    "browser.find_element(By.CLASS_NAME, 'gd_name').get_attribute('href')\n",
    "\n",
    "### 1페이지 전체의 링크 데이터\n",
    "# browser.find_element(By.CLASS_NAME, 'gd_name') # element : 요소\n",
    "datas = browser.find_elements(By.CLASS_NAME, 'gd_name') # elements : 리스트\n",
    "\n",
    "for i in datas:\n",
    "    print(i.get_attribute('href'))"
   ]
  },
  {
   "cell_type": "code",
   "execution_count": 98,
   "metadata": {},
   "outputs": [
    {
     "name": "stdout",
     "output_type": "stream",
     "text": [
      "********** 현재 1 페이지 수집 중 입니다. **********\n",
      "********** 현재 2 페이지 수집 중 입니다. **********\n",
      "********** 현재 3 페이지 수집 중 입니다. **********\n",
      "['https://www.yes24.com/Product/Goods/128266166', 'https://www.yes24.com/Product/Goods/125557465', 'https://www.yes24.com/Product/Goods/124999476', 'https://www.yes24.com/Product/Goods/128133897', 'https://www.yes24.com/Product/Goods/126511412', 'https://www.yes24.com/Product/Goods/129043527', 'https://www.yes24.com/Product/Goods/117014613', 'https://www.yes24.com/Product/Goods/127094902', 'https://www.yes24.com/Product/Goods/124225606', 'https://www.yes24.com/Product/Goods/124043812', 'https://www.yes24.com/Product/Goods/104663596', 'https://www.yes24.com/Product/Goods/124043802', 'https://www.yes24.com/Product/Goods/123930880', 'https://www.yes24.com/Product/Goods/123930891', 'https://www.yes24.com/Product/Goods/126845471', 'https://www.yes24.com/Product/Goods/126590468', 'https://www.yes24.com/Product/Goods/126702038', 'https://www.yes24.com/Product/Goods/125295101', 'https://www.yes24.com/Product/Goods/126516935', 'https://www.yes24.com/Product/Goods/8759796', 'https://www.yes24.com/Product/Goods/122120495', 'https://www.yes24.com/Product/Goods/124539805', 'https://www.yes24.com/Product/Goods/96547408', 'https://www.yes24.com/Product/Goods/125969665', 'https://www.yes24.com/Product/Goods/125992096', 'https://www.yes24.com/Product/Goods/123675187', 'https://www.yes24.com/Product/Goods/128702347', 'https://www.yes24.com/Product/Goods/125576919', 'https://www.yes24.com/Product/Goods/129119200', 'https://www.yes24.com/Product/Goods/101864763', 'https://www.yes24.com/Product/Goods/127050264', 'https://www.yes24.com/Product/Goods/125117836', 'https://www.yes24.com/Product/Goods/7320104', 'https://www.yes24.com/Product/Goods/67362730', 'https://www.yes24.com/Product/Goods/45073215', 'https://www.yes24.com/Product/Goods/127098745', 'https://www.yes24.com/Product/Goods/121826324', 'https://www.yes24.com/Product/Goods/128816730', 'https://www.yes24.com/Product/Goods/124702605', 'https://www.yes24.com/Product/Goods/128251777', 'https://www.yes24.com/Product/Goods/128829285', 'https://www.yes24.com/Product/Goods/114853233', 'https://www.yes24.com/Product/Goods/28995741', 'https://www.yes24.com/Product/Goods/102791425', 'https://www.yes24.com/Product/Goods/128917300', 'https://www.yes24.com/Product/Goods/124472824', 'https://www.yes24.com/Product/Goods/128874144', 'https://www.yes24.com/Product/Goods/128760519', 'https://www.yes24.com/Product/Goods/128196803', 'https://www.yes24.com/Product/Goods/128849999', 'https://www.yes24.com/Product/Goods/128939189', 'https://www.yes24.com/Product/Goods/128710948', 'https://www.yes24.com/Product/Goods/118578901', 'https://www.yes24.com/Product/Goods/125384743', 'https://www.yes24.com/Product/Goods/125448202', 'https://www.yes24.com/Product/Goods/128944230', 'https://www.yes24.com/Product/Goods/28995747', 'https://www.yes24.com/Product/Goods/121911671', 'https://www.yes24.com/Product/Goods/128182633', 'https://www.yes24.com/Product/Goods/122090360', 'https://www.yes24.com/Product/Goods/128945390', 'https://www.yes24.com/Product/Goods/129044183', 'https://www.yes24.com/Product/Goods/125971089', 'https://www.yes24.com/Product/Goods/128869555', 'https://www.yes24.com/Product/Goods/123400303', 'https://www.yes24.com/Product/Goods/91868954', 'https://www.yes24.com/Product/Goods/129044165', 'https://www.yes24.com/Product/Goods/127012688', 'https://www.yes24.com/Product/Goods/128218178', 'https://www.yes24.com/Product/Goods/124219505', 'https://www.yes24.com/Product/Goods/116467955', 'https://www.yes24.com/Product/Goods/128911318']\n"
     ]
    }
   ],
   "source": [
    "# 3페이지까지의 링크 데이터 전부 수집\n",
    "# https://www.yes24.com/Product/Category/BestSeller?categoryNumber=001&pageNumber=1&pageSize=24\n",
    "# https://www.yes24.com/Product/Category/BestSeller?categoryNumber=001&pageNumber=2&pageSize=24\n",
    "# https://www.yes24.com/Product/Category/BestSeller?categoryNumber=001&pageNumber=3&pageSize=24\n",
    "\n",
    "import time\n",
    "\n",
    "link_list = []\n",
    "for i in range(1,4):\n",
    "    print(\"*\" * 10,f\"현재 {i} 페이지 수집 중 입니다.\", \"*\" * 10)\n",
    "    url = f'https://www.yes24.com/Product/Category/BestSeller?categoryNumber=001&pageNumber={i}&pageSize=24'\n",
    "    browser.get(url)\n",
    "    \n",
    "    browser.find_element(By.CLASS_NAME, 'gd_name').get_attribute('href')\n",
    "\n",
    "    ### 1페이지 전체의 링크 데이터\n",
    "    # browser.find_element(By.CLASS_NAME, 'gd_name') # element : 요소\n",
    "    datas = browser.find_elements(By.CLASS_NAME, 'gd_name') # elements : 리스트\n",
    "\n",
    "    for i in datas:\n",
    "        link = i.get_attribute('href')\n",
    "\n",
    "        link_list.append(link)\n",
    "\n",
    "    time.sleep(3)\n",
    "\n",
    "print(link_list)"
   ]
  },
  {
   "cell_type": "code",
   "execution_count": 64,
   "metadata": {},
   "outputs": [
    {
     "data": {
      "text/plain": [
       "72"
      ]
     },
     "execution_count": 64,
     "metadata": {},
     "output_type": "execute_result"
    }
   ],
   "source": [
    "len(link_list)"
   ]
  },
  {
   "cell_type": "code",
   "execution_count": 100,
   "metadata": {},
   "outputs": [],
   "source": [
    "# for link in link_list:\n",
    "#     # 상세 페이지로 이동\n",
    "#     browser.get(link)\n",
    "\n",
    "browser.get(link_list[0])\n",
    "\n",
    "title = browser.find_element(By.CLASS_NAME, 'gd_name').text\n",
    "author = browser.find_element(By.CLASS_NAME, 'gd_auth').text\n",
    "publisher = browser.find_element(By.CLASS_NAME, 'gd_pub').text\n",
    "publishing = browser.find_element(By.CLASS_NAME, 'gd_date').text\n",
    "rating = browser.find_element(By.CLASS_NAME, 'yes_b').text\n",
    "reviews = browser.find_element(By.CLASS_NAME, 'txC_blue').text\n",
    "sales = browser.find_element(By.CLASS_NAME, 'gd_sellNum').text.split(\" \")[2]\n",
    "price = browser.find_element(By.CLASS_NAME, 'yes_m').text[:-1]\n",
    "ranking = browser.find_element(By.CLASS_NAME, 'gd_best').text.split(\" | \"[0])\n",
    "ranking_weeks = browser.find_element(By.CLASS_NAME, 'gd_best').text.split(\" | \"[1])\n"
   ]
  },
  {
   "cell_type": "code",
   "execution_count": 101,
   "metadata": {},
   "outputs": [
    {
     "data": {
      "text/plain": [
       "'238,923'"
      ]
     },
     "execution_count": 101,
     "metadata": {},
     "output_type": "execute_result"
    }
   ],
   "source": [
    "text = \"'| 판매지수 238,923 판매지수란?'\"\n",
    "text.split(\" \")[2]"
   ]
  },
  {
   "cell_type": "code",
   "execution_count": 102,
   "metadata": {},
   "outputs": [
    {
     "data": {
      "text/plain": [
       "\"'베스트 국내도서 1위\""
      ]
     },
     "execution_count": 102,
     "metadata": {},
     "output_type": "execute_result"
    }
   ],
   "source": [
    "text = \"'베스트 국내도서 1위 | 국내도서 1위 1주'\"\n",
    "text.split(\" | \")[0]"
   ]
  },
  {
   "cell_type": "code",
   "execution_count": null,
   "metadata": {},
   "outputs": [],
   "source": [
    "# 데이터 베이스 연동 후 -> 수집한 데이터를 DB에 저장 (csv)\n",
    "import pymysql \n",
    "import time\n",
    "import re\n",
    "from datetime import datetime\n",
    "\n",
    "conn = pymysql.connect(\n",
    "    host='localhost',\n",
    "    user='root',\n",
    "    password='!Passw0rd',\n",
    "    db='yes24',\n",
    "    charset='utf8mb4',\n",
    "    cursorclass=pymysql.cursors.DictCursor\n",
    ")\n",
    "\n",
    "with conn.cursor() as cur:\n",
    "    for link in link_list:\n",
    "        browser.get(link)\n",
    "\n",
    "        title = browser.find_element(By.CLASS_NAME, 'gd_name').text\n",
    "        author = browser.find_element(By.CLASS_NAME, 'gd_auth').text\n",
    "        publisher = browser.find_element(By.CLASS_NAME, 'gd_pub').text\n",
    "\n",
    "        # 2024년 7월 22일 -> 2024-07-22\n",
    "        publishing = browser.find_element(By.CLASS_NAME, 'gd_date').text\n",
    "        match = re.search(r'(\\d+)년 (\\d+)월 (\\d+)일', publishing)\n",
    "        if match:\n",
    "            year, month, day = match.groups()\n",
    "            data_obj = datetime(int(year), int(month), int(day))\n",
    "            publishing = data_obj.strftime(\"%Y-%m-%d\")\n",
    "        else:\n",
    "            publishing = \"2024-07-22\"\n",
    "\n",
    "        rating = browser.find_element(By.CLASS_NAME, 'yes_b').text\n",
    "        try:\n",
    "            # rating에서 콤마 제거 및 소수점 변환\n",
    "            rating = float(rating.replace(\",\", \"\"))\n",
    "        except ValueError:\n",
    "            rating = 0.0\n",
    "\n",
    "        try:\n",
    "            review = browser.find_element(By.CLASS_NAME, 'txC_blue').text\n",
    "            review = int(review.replace(\",\", \"\"))\n",
    "        except ValueError:\n",
    "            review = 0\n",
    "\n",
    "        try:\n",
    "            sales = browser.find_element(By.CLASS_NAME, 'gd_sellNum').text.split(\" \")[2]\n",
    "            sales = int(sales.replace(\",\", \"\"))\n",
    "        except (IndexError, ValueError):\n",
    "            sales = 0\n",
    "\n",
    "        try:\n",
    "            price = browser.find_element(By.CLASS_NAME, 'yes_m').text[:-1]\n",
    "            price = int(price.replace(\",\", \"\"))\n",
    "        except ValueError:\n",
    "            price = 0\n",
    "\n",
    "        full_text = browser.find_element(By.CLASS_NAME, 'gd_best').text\n",
    "        parts = full_text.split(\" | \")\n",
    "\n",
    "        if len(parts) == 1:\n",
    "            ranking = 0\n",
    "            ranking_weeks = 0\n",
    "        else:\n",
    "            try:\n",
    "                ranking_part = parts[0]\n",
    "                ranking = int(''.join(filter(str.isdigit, ranking_part)))  # 숫자만 호출\n",
    "            except ValueError:\n",
    "                ranking = 0\n",
    "\n",
    "            try:\n",
    "                ranking_weeks_part = parts[1]\n",
    "                ranking_weeks = int(''.join(filter(str.isdigit, ranking_weeks_part.split()[-1])))\n",
    "            except (IndexError, ValueError):\n",
    "                ranking_weeks = 0\n",
    "\n",
    "        sql = \"\"\"INSERT INTO Books(\n",
    "        title, author, publisher, publishing, rating, review, sales, price, ranking, ranking_weeks\n",
    "        )\n",
    "        VALUES(\n",
    "        %s, %s, %s, %s, %s, %s, %s, %s, %s, %s\n",
    "        )\n",
    "        \"\"\"\n",
    "        cur.execute(sql, (title, author, publisher, publishing, rating, review, sales, price, ranking, ranking_weeks))\n",
    "        conn.commit()\n",
    "        time.sleep(2)\n",
    "\n",
    "browser.quit()\n",
    "conn.close()"
   ]
  },
  {
   "cell_type": "code",
   "execution_count": 84,
   "metadata": {},
   "outputs": [
    {
     "data": {
      "text/plain": [
       "('너에게 들려주는 단단한 말',\n",
       " '김종원 저',\n",
       " '퍼스트펭귄',\n",
       " '2024년 07월 10일',\n",
       " '10.0',\n",
       " '10',\n",
       " '238,923',\n",
       " '18,000',\n",
       " ['베스트', '국내도서', '1위', '|', '국내도서', '1위', '1주'],\n",
       " ['베스트 국내도서 1위 ', ' 국내도서 1위 1주'])"
      ]
     },
     "execution_count": 84,
     "metadata": {},
     "output_type": "execute_result"
    }
   ],
   "source": [
    "# 상세 페이지 이동 후 데이터 크롤링\n",
    "title = browser.find_element(By.CLASS_NAME, 'gd_name').text\n",
    "author = browser.find_element(By.CLASS_NAME, 'gd_auth').text\n",
    "publisher = browser.find_element(By.CLASS_NAME, 'gd_pub').text\n",
    "publishing = browser.find_element(By.CLASS_NAME, 'gd_date').text\n",
    "rating = browser.find_element(By.CLASS_NAME, 'yes_b').text\n",
    "review = browser.find_element(By.CLASS_NAME, 'txC_blue').text\n",
    "sales = browser.find_element(By.CLASS_NAME, 'gd_sellNum').text.split(\" \")[2]\n",
    "price = browser.find_element(By.CLASS_NAME, 'yes_m').text[:-1]\n",
    "ranking = browser.find_element(By.CLASS_NAME, 'gd_best').text.split(\" | \"[0])\n",
    "ranking_weeks = browser.find_element(By.CLASS_NAME, 'gd_best').text.split(\" | \"[1])\n",
    "\n",
    "title, author, publisher, publishing, rating, review, sales, price, ranking, ranking_weeks\n"
   ]
  }
 ],
 "metadata": {
  "kernelspec": {
   "display_name": "Python 3",
   "language": "python",
   "name": "python3"
  },
  "language_info": {
   "codemirror_mode": {
    "name": "ipython",
    "version": 3
   },
   "file_extension": ".py",
   "mimetype": "text/x-python",
   "name": "python",
   "nbconvert_exporter": "python",
   "pygments_lexer": "ipython3",
   "version": "3.9.6"
  }
 },
 "nbformat": 4,
 "nbformat_minor": 2
}
