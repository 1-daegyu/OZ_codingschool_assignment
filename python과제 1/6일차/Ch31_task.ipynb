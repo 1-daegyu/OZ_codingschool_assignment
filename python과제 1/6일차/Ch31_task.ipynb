{
 "cells": [
  {
   "cell_type": "markdown",
   "metadata": {},
   "source": [
    "문자열 리스트를 받아, 각 문자열의 길이를 출력하는 함수 print_lengths를 작성하세요."
   ]
  },
  {
   "cell_type": "code",
   "execution_count": 1,
   "metadata": {},
   "outputs": [
    {
     "name": "stdout",
     "output_type": "stream",
     "text": [
      "문자열 'apple'의 길이는 5입니다.\n",
      "문자열 'banana'의 길이는 6입니다.\n",
      "문자열 'orange'의 길이는 6입니다.\n",
      "문자열 'kiwi'의 길이는 4입니다.\n"
     ]
    }
   ],
   "source": [
    "def print_lengths(str_list):\n",
    "    for s in str_list:\n",
    "        print(f\"문자열 '{s}'의 길이는 {len(s)}입니다.\")\n",
    "\n",
    "# 테스트 예제\n",
    "string_list = [\"apple\", \"banana\", \"orange\", \"kiwi\"]\n",
    "print_lengths(string_list)\n"
   ]
  },
  {
   "cell_type": "markdown",
   "metadata": {},
   "source": []
  }
 ],
 "metadata": {
  "kernelspec": {
   "display_name": "Python 3",
   "language": "python",
   "name": "python3"
  },
  "language_info": {
   "codemirror_mode": {
    "name": "ipython",
    "version": 3
   },
   "file_extension": ".py",
   "mimetype": "text/x-python",
   "name": "python",
   "nbconvert_exporter": "python",
   "pygments_lexer": "ipython3",
   "version": "3.9.6"
  }
 },
 "nbformat": 4,
 "nbformat_minor": 2
}
