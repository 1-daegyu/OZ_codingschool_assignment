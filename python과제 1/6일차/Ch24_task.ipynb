{
 "cells": [
  {
   "cell_type": "markdown",
   "metadata": {},
   "source": [
    "사용자의 이름, 나이, 성별을 출력하는 함수 print_info를 작성하세요. 이 때, 모든 매개변수는 키워드 매개변수로만 받도록 하세요."
   ]
  },
  {
   "cell_type": "code",
   "execution_count": 1,
   "metadata": {},
   "outputs": [
    {
     "name": "stdout",
     "output_type": "stream",
     "text": [
      "이름: 철수\n",
      "나이: 25\n",
      "성별: 남성\n",
      "이름: 영희\n",
      "나이: 30\n",
      "성별: 여성\n"
     ]
    }
   ],
   "source": [
    "def print_info(*, name, age, gender):\n",
    "    print(f\"이름: {name}\")\n",
    "    print(f\"나이: {age}\")\n",
    "    print(f\"성별: {gender}\")\n",
    "\n",
    "# 함수 테스트\n",
    "print_info(name=\"철수\", age=25, gender=\"남성\")\n",
    "print_info(name=\"영희\", age=30, gender=\"여성\")\n"
   ]
  },
  {
   "cell_type": "markdown",
   "metadata": {},
   "source": []
  }
 ],
 "metadata": {
  "kernelspec": {
   "display_name": "Python 3",
   "language": "python",
   "name": "python3"
  },
  "language_info": {
   "codemirror_mode": {
    "name": "ipython",
    "version": 3
   },
   "file_extension": ".py",
   "mimetype": "text/x-python",
   "name": "python",
   "nbconvert_exporter": "python",
   "pygments_lexer": "ipython3",
   "version": "3.9.6"
  }
 },
 "nbformat": 4,
 "nbformat_minor": 2
}
