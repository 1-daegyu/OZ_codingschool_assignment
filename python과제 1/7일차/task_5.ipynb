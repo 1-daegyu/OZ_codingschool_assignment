{
 "cells": [
  {
   "cell_type": "markdown",
   "metadata": {},
   "source": [
    "datetime 모듈을 사용하여 현재 날짜와 시간을 출력하는 프로그램을 작성하세요. \n",
    "\n",
    "또한, 사용자로부터 태어난 년도를 입력받아 현재 나이를 계산하여 출력하세요."
   ]
  },
  {
   "cell_type": "code",
   "execution_count": 1,
   "metadata": {},
   "outputs": [
    {
     "name": "stdout",
     "output_type": "stream",
     "text": [
      "현재 날짜와 시간: 2024-07-05 17:31:27\n",
      "현재 나이: 26세\n"
     ]
    }
   ],
   "source": [
    "from datetime import datetime\n",
    "\n",
    "def print_current_datetime():\n",
    "    # 현재 날짜와 시간 가져오기\n",
    "    now = datetime.now()\n",
    "    print(\"현재 날짜와 시간:\", now.strftime(\"%Y-%m-%d %H:%M:%S\"))\n",
    "\n",
    "def calculate_age():\n",
    "    try:\n",
    "        birth_year = int(input(\"태어난 년도를 입력하세요: \"))\n",
    "        current_year = datetime.now().year\n",
    "        age = current_year - birth_year\n",
    "        \n",
    "        if age < 0:\n",
    "            print(\"잘못된 출생 연도입니다. 다시 확인해 주세요.\")\n",
    "        else:\n",
    "            print(f\"현재 나이: {age}세\")\n",
    "    except ValueError:\n",
    "        print(\"잘못된 입력입니다. 숫자를 입력해주세요.\")\n",
    "\n",
    "# 프로그램 실행\n",
    "print_current_datetime()\n",
    "calculate_age()\n"
   ]
  }
 ],
 "metadata": {
  "kernelspec": {
   "display_name": "Python 3",
   "language": "python",
   "name": "python3"
  },
  "language_info": {
   "codemirror_mode": {
    "name": "ipython",
    "version": 3
   },
   "file_extension": ".py",
   "mimetype": "text/x-python",
   "name": "python",
   "nbconvert_exporter": "python",
   "pygments_lexer": "ipython3",
   "version": "3.9.6"
  }
 },
 "nbformat": 4,
 "nbformat_minor": 2
}
